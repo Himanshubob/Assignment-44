{
 "cells": [
  {
   "cell_type": "markdown",
   "id": "686bc57d",
   "metadata": {},
   "source": [
    "# Q1. What is the purpose of grid search cv in machine learning, and how does it work?"
   ]
  },
  {
   "cell_type": "markdown",
   "id": "11876747",
   "metadata": {},
   "source": [
    "# ans.. grid search cv woke the combination of the  haperparmeter  and find trhe accuracy and  calculate the  averge accuracy"
   ]
  },
  {
   "cell_type": "markdown",
   "id": "456fcdd1",
   "metadata": {},
   "source": [
    "# Q2. Describe the difference between grid search cv and randomize search cv, and when might you choose one over the other?"
   ]
  },
  {
   "cell_type": "markdown",
   "id": "eb65c6a5",
   "metadata": {},
   "source": [
    "# ans. grid seach cv find the all possible haperparmeter combinatio but randam search cv  you given the number of random search cv so the random search cv  randomly selact the combination\n"
   ]
  },
  {
   "cell_type": "markdown",
   "id": "57dfdafe",
   "metadata": {},
   "source": [
    "# Q3. What is data leakage, and why is it a problem in machine learning? Provide an example."
   ]
  },
  {
   "cell_type": "markdown",
   "id": "c5060c28",
   "metadata": {},
   "source": [
    "# ans..Data leakage (or leakage) happens when your training data contains information about the target, but similar data will not be available when the model is used for prediction."
   ]
  },
  {
   "cell_type": "markdown",
   "id": "baa7fd0a",
   "metadata": {},
   "source": [
    "# Q4. How can you prevent data leakage when building a machine learning model?"
   ]
  },
  {
   "cell_type": "markdown",
   "id": "47add49d",
   "metadata": {},
   "source": [
    "# Understanding the Dataset.\n",
    "# Cleaning Dataset for Duplicates.\n",
    "# Selecting Features with Regard to Target Variable Correlation and Temporal Ordering.\n",
    "# Splitting Dataset into Train, Validation, and Test Groups.\n",
    "# ormalizing After Splitting, BUT Before Cross Validation"
   ]
  },
  {
   "cell_type": "markdown",
   "id": "38d9ef82",
   "metadata": {},
   "source": [
    "# Q5. What is a confusion matrix, and what does it tell you about the performance of a classification model?"
   ]
  },
  {
   "cell_type": "markdown",
   "id": "4e2ffd58",
   "metadata": {},
   "source": [
    "# ans.. confusion matrix is the 2x2 matriv and the collection of  all situation  like TP,TN,FN,FP"
   ]
  },
  {
   "cell_type": "markdown",
   "id": "35ec9e16",
   "metadata": {},
   "source": [
    "# Q6. Explain the difference between precision and recall in the context of a confusion matrix."
   ]
  },
  {
   "cell_type": "markdown",
   "id": "24cd7ba8",
   "metadata": {},
   "source": [
    "# ans.. recall is more  useed of the human related  problem\n",
    "# and pricese is more used to the spam related problem \n",
    "# both are calclaute the  performace of the model"
   ]
  },
  {
   "cell_type": "markdown",
   "id": "9439970c",
   "metadata": {},
   "source": [
    "# Q7. How can you interpret a confusion matrix to determine which types of errors your model is making?"
   ]
  },
  {
   "cell_type": "markdown",
   "id": "9280012a",
   "metadata": {},
   "source": [
    "# True Positive: The model has predicted yes, and the actual value was also true. False Negative: The model has predicted no, but the actual value was Yes, it is also called as Type-II error. False Positive: The model has predicted Yes, but the actual value was No. It is also called a Type-I error."
   ]
  },
  {
   "cell_type": "markdown",
   "id": "9f84e163",
   "metadata": {},
   "source": [
    "# Q8. What are some common metrics that can be derived from a confusion matrix, and how are they ccalculated?"
   ]
  },
  {
   "cell_type": "markdown",
   "id": "c1773cb4",
   "metadata": {},
   "source": [
    "# ans.. recall and TPR are the same type matrix "
   ]
  },
  {
   "cell_type": "markdown",
   "id": "d066ffbe",
   "metadata": {},
   "source": [
    "# Q9. What is the relationship between the accuracy of a model and the values in its confusion matrix?"
   ]
  },
  {
   "cell_type": "markdown",
   "id": "526c3649",
   "metadata": {},
   "source": [
    "# How is accuracy calculated from a confusion matrix? A. Accuracy is calculated as the number of correct predictions divided by the total number of predictions made by the model."
   ]
  },
  {
   "cell_type": "markdown",
   "id": "51c25ff1",
   "metadata": {},
   "source": [
    "# Q10. How can you use a confusion matrix to identify potential biases or limitations in your machine learning model?"
   ]
  },
  {
   "cell_type": "markdown",
   "id": "61122048",
   "metadata": {},
   "source": [
    "#  use the information in it to calculate measures that can help you determine the usefulness of the model."
   ]
  },
  {
   "cell_type": "code",
   "execution_count": null,
   "id": "a84d9d41",
   "metadata": {},
   "outputs": [],
   "source": []
  }
 ],
 "metadata": {
  "kernelspec": {
   "display_name": "Python 3 (ipykernel)",
   "language": "python",
   "name": "python3"
  },
  "language_info": {
   "codemirror_mode": {
    "name": "ipython",
    "version": 3
   },
   "file_extension": ".py",
   "mimetype": "text/x-python",
   "name": "python",
   "nbconvert_exporter": "python",
   "pygments_lexer": "ipython3",
   "version": "3.10.9"
  }
 },
 "nbformat": 4,
 "nbformat_minor": 5
}
